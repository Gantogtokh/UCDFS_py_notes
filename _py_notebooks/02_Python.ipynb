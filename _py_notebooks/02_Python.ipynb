{
 "cells": [
  {
   "cell_type": "markdown",
   "id": "1d8ed898",
   "metadata": {
    "tags": []
   },
   "source": [
    "### Things being looked at below:\n",
    "\n",
    "1. Custom Functions\n",
    "1. String Functions\n",
    "1. Built-in Functions\n"
   ]
  },
  {
   "cell_type": "markdown",
   "id": "0bdfd39e",
   "metadata": {
    "jupyter": {
     "source_hidden": true
    },
    "tags": []
   },
   "source": [
    "# Functions"
   ]
  },
  {
   "cell_type": "markdown",
   "id": "8246eb6c",
   "metadata": {
    "id": "bA5ajAmk7XH6",
    "jupyter": {
     "source_hidden": true
    },
    "tags": []
   },
   "source": [
    "# The typical syntax of a function definition:"
   ]
  },
  {
   "cell_type": "code",
   "execution_count": null,
   "id": "844859da",
   "metadata": {},
   "outputs": [],
   "source": [
    "#function definitions\n",
    "def greet():                                        #note the full-colon\n",
    "    print(\"hello world!\")                           #note the indent\n",
    "\n",
    "#BELOW\n",
    "#code that uses the above functions\n",
    "\n",
    "print(\"begin program\")\n",
    "greet()                  #function call\n"
   ]
  },
  {
   "cell_type": "code",
   "execution_count": null,
   "id": "6cfb0e09",
   "metadata": {},
   "outputs": [],
   "source": [
    "def test():\n",
    "    print(\"inside test() function\")\n",
    "    print(\"b\")\n",
    "\n",
    "print(\"a\")\n",
    "test()\n",
    "print(\"c\")"
   ]
  },
  {
   "cell_type": "code",
   "execution_count": null,
   "id": "221ec0e4",
   "metadata": {},
   "outputs": [],
   "source": [
    "#DRY\n",
    "# name = 'Rob'\n",
    "\n",
    "# TASK 1: print \"Hey Rob\" using the 'name' above\n",
    "# print( )\n",
    "\n",
    "# TASK 2: set name to 'Bill' and repeat\n",
    "\n",
    "\n",
    "# TASK 3: What do you notice"
   ]
  },
  {
   "cell_type": "code",
   "execution_count": null,
   "id": "0b2fbd73",
   "metadata": {},
   "outputs": [],
   "source": []
  },
  {
   "cell_type": "code",
   "execution_count": null,
   "id": "479fb7c8",
   "metadata": {},
   "outputs": [],
   "source": []
  },
  {
   "cell_type": "code",
   "execution_count": null,
   "id": "8c3570ef",
   "metadata": {},
   "outputs": [],
   "source": []
  },
  {
   "cell_type": "code",
   "execution_count": null,
   "id": "66c3dc3e",
   "metadata": {},
   "outputs": [],
   "source": []
  },
  {
   "cell_type": "code",
   "execution_count": null,
   "id": "addba5ae",
   "metadata": {},
   "outputs": [],
   "source": [
    "def greet(person):         #a function that declares a \"parameter\"\n",
    "    print(\"Hey\", person)\n",
    "    \n",
    "greet(\"rob\")\n",
    "greet(\"bill\")"
   ]
  },
  {
   "cell_type": "code",
   "execution_count": null,
   "id": "75e6599f",
   "metadata": {},
   "outputs": [],
   "source": [
    "#Remember this....\n",
    "person = \"Rob\"             #**Not** DRY (Don't Repeat Yourself)\n",
    "print(\"Hey\", person)\n",
    "person = \"Bill\"\n",
    "print(\"Hey\", person)"
   ]
  },
  {
   "cell_type": "code",
   "execution_count": null,
   "id": "0fd532d9",
   "metadata": {},
   "outputs": [],
   "source": [
    "#a function that 'returns'\n",
    "\n",
    "def make_upper_case(word): \n",
    "    return word.upper()       #no saving of repeating code here\n",
    "\n",
    "\n",
    "print( \"I am a Fish\".upper() )"
   ]
  },
  {
   "cell_type": "code",
   "execution_count": null,
   "id": "53674e58",
   "metadata": {},
   "outputs": [],
   "source": [
    "#Generating random numbers"
   ]
  },
  {
   "cell_type": "code",
   "execution_count": null,
   "id": "7bb5b8ec",
   "metadata": {},
   "outputs": [],
   "source": [
    "# help() and dir() for learning\n",
    "\n",
    "# dir(str)\n",
    "# help(str.upper) #just fn name - no round brackets"
   ]
  },
  {
   "cell_type": "code",
   "execution_count": null,
   "id": "caa867d0",
   "metadata": {},
   "outputs": [],
   "source": [
    "#if-statements in Python"
   ]
  },
  {
   "cell_type": "code",
   "execution_count": null,
   "id": "99e3d935",
   "metadata": {},
   "outputs": [],
   "source": []
  },
  {
   "cell_type": "code",
   "execution_count": null,
   "id": "40a08cc2",
   "metadata": {},
   "outputs": [],
   "source": []
  },
  {
   "cell_type": "code",
   "execution_count": null,
   "id": "27e31b55",
   "metadata": {},
   "outputs": [],
   "source": []
  },
  {
   "cell_type": "code",
   "execution_count": null,
   "id": "f6633ea1",
   "metadata": {},
   "outputs": [],
   "source": []
  },
  {
   "cell_type": "code",
   "execution_count": null,
   "id": "6cc3c3bb",
   "metadata": {},
   "outputs": [],
   "source": []
  },
  {
   "cell_type": "code",
   "execution_count": null,
   "id": "e607a0db",
   "metadata": {},
   "outputs": [],
   "source": []
  },
  {
   "cell_type": "code",
   "execution_count": null,
   "id": "b352842f",
   "metadata": {},
   "outputs": [],
   "source": []
  },
  {
   "cell_type": "code",
   "execution_count": null,
   "id": "030e471d",
   "metadata": {},
   "outputs": [],
   "source": [
    "#import(s) at the top\n",
    "import random\n",
    "\n",
    "#function definitions\n",
    "def do_this():\n",
    "    print(\"do this\")\n",
    "    \n",
    "\n",
    "#code that uses the function definitions\n",
    "num = random.randint(0, 10)\n",
    "print(f\"random generated: {num}\" )\n",
    "\n",
    "if num > 5:\n",
    "    do_this()\n",
    "else:\n",
    "    print(\"go hungry\")\n",
    "\n",
    "print(\"program continues\")   \n",
    "    "
   ]
  },
  {
   "cell_type": "code",
   "execution_count": null,
   "id": "ed6250b8",
   "metadata": {},
   "outputs": [],
   "source": [
    "# get carrots\n",
    "# fill pot with water\n",
    "# put carrots in pot\n",
    "# turn on heat\n"
   ]
  },
  {
   "cell_type": "code",
   "execution_count": null,
   "id": "d9d37ede",
   "metadata": {},
   "outputs": [],
   "source": []
  },
  {
   "cell_type": "code",
   "execution_count": null,
   "id": "e9143442",
   "metadata": {},
   "outputs": [],
   "source": []
  },
  {
   "cell_type": "code",
   "execution_count": null,
   "id": "082559f6",
   "metadata": {},
   "outputs": [],
   "source": []
  },
  {
   "cell_type": "code",
   "execution_count": null,
   "id": "823e40ef",
   "metadata": {},
   "outputs": [],
   "source": []
  },
  {
   "cell_type": "code",
   "execution_count": null,
   "id": "c77e357a",
   "metadata": {},
   "outputs": [],
   "source": []
  },
  {
   "cell_type": "code",
   "execution_count": null,
   "id": "ef143d67",
   "metadata": {},
   "outputs": [],
   "source": []
  },
  {
   "cell_type": "code",
   "execution_count": null,
   "id": "1c61c004",
   "metadata": {},
   "outputs": [],
   "source": [
    "#imports at the top\n",
    "import random\n",
    "\n",
    "#function definitions section\n",
    "def message():\n",
    "    \"\"\"prints a message to the screen\"\"\"\n",
    "    print(\"\\nmake some food...\")\n",
    "    \n",
    "def cook( food, liquid, vessel):\n",
    "    \"\"\"simulates cooking food in a liquid in a vessel\"\"\"\n",
    "    print(\"\\tget\", food)                 #food 'varies'\n",
    "    print(\"\\tfill a pot with\", liquid)   #liquid can vary\n",
    "    print(\"\\tput\", food, \"in the\", vessel )\n",
    "    print(\"\\tturn on the heat\")\n",
    "\n",
    "def decide():\n",
    "    \"\"\"\n",
    "        simulates a decision of whether to eat or not\n",
    "    \"\"\"\n",
    "    num = random.randint(0, 10)\n",
    "    print(f\"random generated: {num}\" )\n",
    "\n",
    "    if num > 5:\n",
    "        cook(\"carrots\", \"beer\", \"frying-pan\")  #calling another function from within another\n",
    "    else:\n",
    "        print(\"go hungry\")\n",
    "\n",
    "    return \"that's life!\"\n",
    "\n",
    "#code that uses the above functions\n",
    "# message()\n",
    "# print( decide() )\n",
    "# message()\n",
    "# print( decide() )\n",
    "help(decide)"
   ]
  },
  {
   "cell_type": "code",
   "execution_count": null,
   "id": "3c8fba45",
   "metadata": {},
   "outputs": [],
   "source": [
    "#test importing from a module of our own creation"
   ]
  },
  {
   "cell_type": "code",
   "execution_count": null,
   "id": "a279a056",
   "metadata": {},
   "outputs": [],
   "source": [
    "import my_module #DO NOT PUT .py\n",
    "my_module.test_fn()\n",
    "my_module.message()"
   ]
  },
  {
   "cell_type": "code",
   "execution_count": null,
   "id": "7c78bdde",
   "metadata": {},
   "outputs": [],
   "source": []
  },
  {
   "cell_type": "code",
   "execution_count": null,
   "id": "092284e4",
   "metadata": {},
   "outputs": [],
   "source": []
  },
  {
   "cell_type": "code",
   "execution_count": null,
   "id": "50403b2b",
   "metadata": {},
   "outputs": [],
   "source": []
  },
  {
   "cell_type": "code",
   "execution_count": null,
   "id": "d6a57104",
   "metadata": {},
   "outputs": [],
   "source": []
  },
  {
   "cell_type": "code",
   "execution_count": null,
   "id": "57c08517",
   "metadata": {},
   "outputs": [],
   "source": []
  },
  {
   "cell_type": "code",
   "execution_count": null,
   "id": "84233167",
   "metadata": {},
   "outputs": [],
   "source": []
  },
  {
   "cell_type": "markdown",
   "id": "ce756563",
   "metadata": {
    "jupyter": {
     "source_hidden": true
    },
    "tags": []
   },
   "source": [
    "# A basic example - a function that calculates the double of its input"
   ]
  },
  {
   "cell_type": "code",
   "execution_count": null,
   "id": "299d1955",
   "metadata": {
    "jupyter": {
     "outputs_hidden": true,
     "source_hidden": true
    },
    "tags": []
   },
   "outputs": [],
   "source": [
    "def double(x):\n",
    "    \"\"\"Return twice the value of x.\"\"\"\n",
    "    my_double = x * 2\n",
    "    return my_double\n",
    "\n",
    "double_of_21 = double(21)\n",
    "print(double_of_21)  # should print 42"
   ]
  },
  {
   "cell_type": "code",
   "execution_count": null,
   "id": "dabd5774",
   "metadata": {
    "collapsed": true,
    "jupyter": {
     "outputs_hidden": true,
     "source_hidden": true
    },
    "tags": []
   },
   "outputs": [],
   "source": [
    "help(double)  # will print the docstring of our function"
   ]
  },
  {
   "cell_type": "markdown",
   "id": "30a34576",
   "metadata": {
    "jupyter": {
     "source_hidden": true
    },
    "tags": []
   },
   "source": [
    "# An example of a two-parameter function - calculating the average"
   ]
  },
  {
   "cell_type": "code",
   "execution_count": null,
   "id": "ee61cebd",
   "metadata": {
    "collapsed": true,
    "jupyter": {
     "outputs_hidden": true,
     "source_hidden": true
    },
    "tags": []
   },
   "outputs": [],
   "source": [
    "def average(a, b):\n",
    "    \"\"\"Calculate the arithmetic average of numbers a and b.\"\"\"\n",
    "    return (a + b) / 2\n",
    "\n",
    "print(average(1, 9))  # should print 5.0"
   ]
  },
  {
   "cell_type": "markdown",
   "id": "bf00ced8",
   "metadata": {
    "jupyter": {
     "source_hidden": true
    },
    "tags": []
   },
   "source": [
    "# Both parameters and return values are optional"
   ]
  },
  {
   "cell_type": "code",
   "execution_count": null,
   "id": "6122882b",
   "metadata": {
    "collapsed": true,
    "jupyter": {
     "outputs_hidden": true,
     "source_hidden": true
    },
    "tags": []
   },
   "outputs": [],
   "source": [
    "def recite_poem():\n",
    "    \"\"\"Recite the poem Always Bloom by Alexandra Vasiliu\"\"\"\n",
    "    print(\"If you root yourself\")\n",
    "    print(\"in love\")\n",
    "    print(\"and kindness,\")\n",
    "    print(\"your hear will always bloom.\")\n",
    "\n",
    "recite_poem()"
   ]
  },
  {
   "cell_type": "markdown",
   "id": "d5e0172c",
   "metadata": {
    "jupyter": {
     "source_hidden": true
    },
    "tags": []
   },
   "source": [
    "# We can have multiple return values, using tuples"
   ]
  },
  {
   "cell_type": "markdown",
   "id": "fa807df9",
   "metadata": {
    "jupyter": {
     "source_hidden": true
    },
    "tags": []
   },
   "source": [
    "# Positional Parameters and Default Values"
   ]
  },
  {
   "cell_type": "markdown",
   "id": "6d420739",
   "metadata": {
    "jupyter": {
     "source_hidden": true
    },
    "tags": []
   },
   "source": [
    "# Functions can be passed as values"
   ]
  },
  {
   "cell_type": "code",
   "execution_count": null,
   "id": "e991df7e",
   "metadata": {
    "collapsed": true,
    "jupyter": {
     "outputs_hidden": true,
     "source_hidden": true
    },
    "tags": []
   },
   "outputs": [],
   "source": [
    "def rose():\n",
    "    \"\"\"Print a line from Romeo and Juliet.\"\"\"\n",
    "    print(\"What's in a name? That which we call a rose\\nBy any other name would smell as sweet\")\n",
    "\n",
    "any_other_name = rose  # Note the lack of brackets\n",
    "any_other_name()"
   ]
  },
  {
   "cell_type": "markdown",
   "id": "9a9a9d8b",
   "metadata": {
    "jupyter": {
     "source_hidden": true
    },
    "tags": []
   },
   "source": [
    "# Everything in Python is an object, and objects have methods"
   ]
  },
  {
   "cell_type": "code",
   "execution_count": null,
   "id": "0c0c3674",
   "metadata": {
    "collapsed": true,
    "jupyter": {
     "outputs_hidden": true,
     "source_hidden": true
    },
    "tags": []
   },
   "outputs": [],
   "source": [
    "# Methods are functions attached to an object\n",
    "# We can use the built-in `dir` function to learn what methods an object has\n",
    "s = \"Hello world\"\n",
    "dir(s)  # Will print all the methods and attributes that are available on a string (for now ignore the ones with underscores)"
   ]
  },
  {
   "cell_type": "code",
   "execution_count": null,
   "id": "f4dcf9df",
   "metadata": {
    "collapsed": true,
    "jupyter": {
     "outputs_hidden": true,
     "source_hidden": true
    },
    "tags": []
   },
   "outputs": [],
   "source": [
    "# We can then use `help` to get any methods \n",
    "help(s.upper)\n",
    "# Python also has great documentation for all of these - https://docs.python.org/3/library/stdtypes.html#string-methods"
   ]
  },
  {
   "cell_type": "markdown",
   "id": "2d8dd0a3",
   "metadata": {
    "jupyter": {
     "source_hidden": true
    },
    "tags": []
   },
   "source": [
    "# Some particularly useful string methods\n",
    "\n",
    "Count appearance of substrings: `s.count(sub [, start[, end]])`\n",
    "Begins/ends with a substring? `s.startswith(sub[, start[, end]])` , `s.endswith(sub[, start[, end]])`\n",
    "All capital/lowercase letters: `s.upper()` , `s.lower()`\n",
    "Remove whitespace: `s.strip([chars])`\n",
    "Find position of substring: `s.index(sub[, start[, end]])`\n",
    "Replace a substring: `.replace(old, new[, count])`\n",
    "\n",
    "Many more exist - the documentation, Google and Stack Overflow are your friends"
   ]
  },
  {
   "cell_type": "markdown",
   "id": "0c701773",
   "metadata": {
    "jupyter": {
     "source_hidden": true
    },
    "tags": []
   },
   "source": [
    "# Modules\n",
    "\n",
    "Functions thematically belonging together can be stored in a separate Python file. (Same for all other objects)\n",
    "\n",
    "Such a file is called a module and can be loaded in any Python script.\n",
    "\n",
    "There are dozens of modules are available directly in the Python Standard Library, included in any Python installation, and hundred of thousands of others can be easily installed. See https://docs.python.org/3/library/index.html"
   ]
  },
  {
   "cell_type": "code",
   "execution_count": null,
   "id": "a476040c",
   "metadata": {
    "collapsed": true,
    "jupyter": {
     "outputs_hidden": true,
     "source_hidden": true
    },
    "tags": []
   },
   "outputs": [],
   "source": [
    "# To make use of a module, we need to import it, by referring to it by name, without the \".py\" extension:\n",
    "\n",
    "import math\n",
    "print(math.gcd(18, 12))  # The greatest common divisor of these is 6"
   ]
  },
  {
   "cell_type": "code",
   "execution_count": null,
   "id": "67bf3331",
   "metadata": {
    "collapsed": true,
    "jupyter": {
     "outputs_hidden": true,
     "source_hidden": true
    },
    "tags": []
   },
   "outputs": [],
   "source": [
    "# We can also import one or more particular objects from a module by using `from ... import ...`:\n",
    "from math import gcd, pi\n",
    "print(gcd(18, 12))\n",
    "print(pi)"
   ]
  },
  {
   "cell_type": "code",
   "execution_count": null,
   "id": "6fd01461",
   "metadata": {
    "jupyter": {
     "source_hidden": true
    },
    "tags": []
   },
   "outputs": [],
   "source": [
    "# Again: in-built wisdom here...\n",
    "# The zen of Python:\n",
    "# import this"
   ]
  }
 ],
 "metadata": {
  "colab": {
   "name": "Welcome to DataCamp Workspaces.ipynb",
   "provenance": []
  },
  "kernelspec": {
   "display_name": "Python 3 (ipykernel)",
   "language": "python",
   "name": "python3"
  },
  "language_info": {
   "codemirror_mode": {
    "name": "ipython",
    "version": 3
   },
   "file_extension": ".py",
   "mimetype": "text/x-python",
   "name": "python",
   "nbconvert_exporter": "python",
   "pygments_lexer": "ipython3",
   "version": "3.11.4"
  }
 },
 "nbformat": 4,
 "nbformat_minor": 5
}
