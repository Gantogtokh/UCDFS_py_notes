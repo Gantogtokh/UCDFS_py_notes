{
 "cells": [
  {
   "cell_type": "markdown",
   "id": "1d8ed898",
   "metadata": {
    "tags": []
   },
   "source": [
    "### Things being looked at below:\n",
    "\n",
    "1. Custom Functions\n",
    "1. String Functions\n",
    "1. Built-in Functions\n"
   ]
  },
  {
   "cell_type": "markdown",
   "id": "0bdfd39e",
   "metadata": {
    "jupyter": {
     "source_hidden": true
    },
    "tags": []
   },
   "source": [
    "# Functions"
   ]
  },
  {
   "cell_type": "markdown",
   "id": "8246eb6c",
   "metadata": {
    "id": "bA5ajAmk7XH6",
    "jupyter": {
     "source_hidden": true
    },
    "tags": []
   },
   "source": [
    "# The typical syntax of a function definition:"
   ]
  },
  {
   "cell_type": "code",
   "execution_count": 2,
   "id": "844859da",
   "metadata": {},
   "outputs": [
    {
     "name": "stdout",
     "output_type": "stream",
     "text": [
      "begin program\n",
      "hello world!\n"
     ]
    }
   ],
   "source": [
    "#function definitions\n",
    "def greet():\n",
    "    print(\"hello world!\")\n",
    "\n",
    "#BELOW\n",
    "#code that uses the above functions\n",
    "\n",
    "print(\"begin program\")\n",
    "greet()                  #function call\n"
   ]
  },
  {
   "cell_type": "code",
   "execution_count": 4,
   "id": "6cfb0e09",
   "metadata": {},
   "outputs": [
    {
     "name": "stdout",
     "output_type": "stream",
     "text": [
      "a\n",
      "inside test() function\n",
      "b\n",
      "c\n"
     ]
    }
   ],
   "source": [
    "def test():\n",
    "    print(\"inside test() function\")\n",
    "    print(\"b\")\n",
    "\n",
    "print(\"a\")\n",
    "test()\n",
    "print(\"c\")"
   ]
  },
  {
   "cell_type": "code",
   "execution_count": 8,
   "id": "addba5ae",
   "metadata": {},
   "outputs": [
    {
     "name": "stdout",
     "output_type": "stream",
     "text": [
      "Hey rob\n",
      "Hey bill\n"
     ]
    }
   ],
   "source": [
    "def greet(person):         #a function that declares a parameter\n",
    "    print(\"Hey\", person)\n",
    "    \n",
    "greet(\"rob\")\n",
    "greet(\"bill\")"
   ]
  },
  {
   "cell_type": "code",
   "execution_count": 7,
   "id": "75e6599f",
   "metadata": {},
   "outputs": [
    {
     "name": "stdout",
     "output_type": "stream",
     "text": [
      "Hey Rob\n",
      "Hey Bill\n"
     ]
    }
   ],
   "source": [
    "person = \"Rob\"             #DRY - Don't Repeat Yourself\n",
    "print(\"Hey\", person)\n",
    "person = \"Bill\"\n",
    "print(\"Hey\", person)"
   ]
  },
  {
   "cell_type": "code",
   "execution_count": 27,
   "id": "0fd532d9",
   "metadata": {},
   "outputs": [
    {
     "name": "stdout",
     "output_type": "stream",
     "text": [
      "I AM A FISH\n"
     ]
    }
   ],
   "source": [
    "#a function that 'returns'\n",
    "\n",
    "def make_upper_case(word): \n",
    "    return word.upper()       #no saving of repeating code here\n",
    "\n",
    "\n",
    "print( \"I am a Fish\".upper() )"
   ]
  },
  {
   "cell_type": "code",
   "execution_count": 15,
   "id": "7bb5b8ec",
   "metadata": {},
   "outputs": [
    {
     "name": "stdout",
     "output_type": "stream",
     "text": [
      "Help on method_descriptor:\n",
      "\n",
      "upper(self, /)\n",
      "    Return a copy of the string converted to uppercase.\n",
      "\n"
     ]
    }
   ],
   "source": [
    "# dir(str)\n",
    "help(str.upper) #just fn name - no round brackets"
   ]
  },
  {
   "cell_type": "code",
   "execution_count": 85,
   "id": "030e471d",
   "metadata": {},
   "outputs": [
    {
     "name": "stdout",
     "output_type": "stream",
     "text": [
      "random generated: 10\n",
      "dothis\n",
      "program continues\n"
     ]
    }
   ],
   "source": [
    "#import(s) at the top\n",
    "import random\n",
    "\n",
    "#function definitions\n",
    "def do_this():\n",
    "    print(\"dothis\")\n",
    "    \n",
    "\n",
    "#code that uses the function definitions\n",
    "num = random.randint(0, 10)\n",
    "print(f\"random generated: {num}\" )\n",
    "\n",
    "if num > 5:\n",
    "    do_this()\n",
    "else:\n",
    "    print(\"go hungry\")\n",
    "\n",
    "print(\"program continues\")   \n",
    "    "
   ]
  },
  {
   "cell_type": "code",
   "execution_count": 89,
   "id": "1c61c004",
   "metadata": {},
   "outputs": [
    {
     "name": "stdout",
     "output_type": "stream",
     "text": [
      "Help on function decide in module __main__:\n",
      "\n",
      "decide()\n",
      "    simulates a decision of whether to eat or not\n",
      "\n"
     ]
    }
   ],
   "source": [
    "#imports at the top\n",
    "import random\n",
    "\n",
    "#function definitions section\n",
    "def message():\n",
    "    \"\"\"prints a message to the screen\"\"\"\n",
    "    print(\"\\nmake some food...\")\n",
    "    \n",
    "def cook( food, liquid, vessel):\n",
    "    \"\"\"simulates cooking food in a liquid in a vessel\"\"\"\n",
    "    print(\"\\tget\", food)                 #food 'varies'\n",
    "    print(\"\\tfill a pot with\", liquid)   #liquid can vary\n",
    "    print(\"\\tput\", food, \"in the\", vessel )\n",
    "    print(\"\\tturn on the heat\")\n",
    "\n",
    "def decide():\n",
    "    \"\"\"\n",
    "        simulates a decision of whether to eat or not\n",
    "    \"\"\"\n",
    "    num = random.randint(0, 10)\n",
    "    print(f\"random generated: {num}\" )\n",
    "\n",
    "    if num > 5:\n",
    "        cook(\"carrots\", \"beer\", \"frying-pan\")  #calling another function from within another\n",
    "    else:\n",
    "        print(\"go hungry\")\n",
    "\n",
    "    return \"that's life!\"\n",
    "\n",
    "#code that uses the above functions\n",
    "# message()\n",
    "# print( decide() )\n",
    "# message()\n",
    "# print( decide() )\n",
    "help(decide)"
   ]
  },
  {
   "cell_type": "code",
   "execution_count": null,
   "id": "3c8fba45",
   "metadata": {},
   "outputs": [],
   "source": [
    "#test importing from a module of our own creation"
   ]
  },
  {
   "cell_type": "code",
   "execution_count": 93,
   "id": "a279a056",
   "metadata": {},
   "outputs": [
    {
     "name": "stdout",
     "output_type": "stream",
     "text": [
      "test function running...\n"
     ]
    },
    {
     "ename": "AttributeError",
     "evalue": "module 'my_module' has no attribute 'message'",
     "output_type": "error",
     "traceback": [
      "\u001b[1;31m---------------------------------------------------------------------------\u001b[0m",
      "\u001b[1;31mAttributeError\u001b[0m                            Traceback (most recent call last)",
      "\u001b[1;32m<ipython-input-93-760b973d30b0>\u001b[0m in \u001b[0;36m<module>\u001b[1;34m\u001b[0m\n\u001b[0;32m      1\u001b[0m \u001b[1;32mimport\u001b[0m \u001b[0mmy_module\u001b[0m \u001b[1;31m#DO NOT PUT .py\u001b[0m\u001b[1;33m\u001b[0m\u001b[1;33m\u001b[0m\u001b[0m\n\u001b[0;32m      2\u001b[0m \u001b[0mmy_module\u001b[0m\u001b[1;33m.\u001b[0m\u001b[0mtest_fn\u001b[0m\u001b[1;33m(\u001b[0m\u001b[1;33m)\u001b[0m\u001b[1;33m\u001b[0m\u001b[1;33m\u001b[0m\u001b[0m\n\u001b[1;32m----> 3\u001b[1;33m \u001b[0mmy_module\u001b[0m\u001b[1;33m.\u001b[0m\u001b[0mmessage\u001b[0m\u001b[1;33m(\u001b[0m\u001b[1;33m)\u001b[0m\u001b[1;33m\u001b[0m\u001b[1;33m\u001b[0m\u001b[0m\n\u001b[0m",
      "\u001b[1;31mAttributeError\u001b[0m: module 'my_module' has no attribute 'message'"
     ]
    }
   ],
   "source": [
    "import my_module #DO NOT PUT .py\n",
    "my_module.test_fn()\n",
    "my_module.message()"
   ]
  },
  {
   "cell_type": "code",
   "execution_count": null,
   "id": "7c78bdde",
   "metadata": {},
   "outputs": [],
   "source": []
  },
  {
   "cell_type": "code",
   "execution_count": null,
   "id": "092284e4",
   "metadata": {},
   "outputs": [],
   "source": []
  },
  {
   "cell_type": "code",
   "execution_count": null,
   "id": "50403b2b",
   "metadata": {},
   "outputs": [],
   "source": []
  },
  {
   "cell_type": "code",
   "execution_count": null,
   "id": "d6a57104",
   "metadata": {},
   "outputs": [],
   "source": []
  },
  {
   "cell_type": "code",
   "execution_count": null,
   "id": "57c08517",
   "metadata": {},
   "outputs": [],
   "source": []
  },
  {
   "cell_type": "code",
   "execution_count": null,
   "id": "84233167",
   "metadata": {},
   "outputs": [],
   "source": []
  },
  {
   "cell_type": "markdown",
   "id": "ce756563",
   "metadata": {
    "jupyter": {
     "source_hidden": true
    },
    "tags": []
   },
   "source": [
    "# A basic example - a function that calculates the double of its input"
   ]
  },
  {
   "cell_type": "code",
   "execution_count": 94,
   "id": "299d1955",
   "metadata": {
    "jupyter": {
     "outputs_hidden": true,
     "source_hidden": true
    },
    "tags": []
   },
   "outputs": [
    {
     "name": "stdout",
     "output_type": "stream",
     "text": [
      "42\n"
     ]
    }
   ],
   "source": [
    "def double(x):\n",
    "    \"\"\"Return twice the value of x.\"\"\"\n",
    "    my_double = x * 2\n",
    "    return my_double\n",
    "\n",
    "double_of_21 = double(21)\n",
    "print(double_of_21)  # should print 42"
   ]
  },
  {
   "cell_type": "code",
   "execution_count": 18,
   "id": "dabd5774",
   "metadata": {
    "collapsed": true,
    "jupyter": {
     "outputs_hidden": true,
     "source_hidden": true
    },
    "tags": []
   },
   "outputs": [
    {
     "name": "stdout",
     "output_type": "stream",
     "text": [
      "Help on function double in module __main__:\n",
      "\n",
      "double(x)\n",
      "    Return twice the value of x.\n",
      "\n"
     ]
    }
   ],
   "source": [
    "help(double)  # will print the docstring of our function"
   ]
  },
  {
   "cell_type": "markdown",
   "id": "30a34576",
   "metadata": {
    "jupyter": {
     "source_hidden": true
    },
    "tags": []
   },
   "source": [
    "# An example of a two-parameter function - calculating the average"
   ]
  },
  {
   "cell_type": "code",
   "execution_count": 21,
   "id": "ee61cebd",
   "metadata": {
    "collapsed": true,
    "jupyter": {
     "outputs_hidden": true,
     "source_hidden": true
    },
    "tags": []
   },
   "outputs": [
    {
     "name": "stdout",
     "output_type": "stream",
     "text": [
      "5.0\n"
     ]
    }
   ],
   "source": [
    "def average(a, b):\n",
    "    \"\"\"Calculate the arithmetic average of numbers a and b.\"\"\"\n",
    "    return (a + b) / 2\n",
    "\n",
    "print(average(1, 9))  # should print 5.0"
   ]
  },
  {
   "cell_type": "markdown",
   "id": "bf00ced8",
   "metadata": {
    "jupyter": {
     "source_hidden": true
    },
    "tags": []
   },
   "source": [
    "# Both parameters and return values are optional"
   ]
  },
  {
   "cell_type": "code",
   "execution_count": 24,
   "id": "6122882b",
   "metadata": {
    "collapsed": true,
    "jupyter": {
     "outputs_hidden": true,
     "source_hidden": true
    },
    "tags": []
   },
   "outputs": [
    {
     "name": "stdout",
     "output_type": "stream",
     "text": [
      "If you root yourself\n",
      "in love\n",
      "and kindness,\n",
      "your hear will always bloom.\n"
     ]
    }
   ],
   "source": [
    "def recite_poem():\n",
    "    \"\"\"Recite the poem Always Bloom by Alexandra Vasiliu\"\"\"\n",
    "    print(\"If you root yourself\")\n",
    "    print(\"in love\")\n",
    "    print(\"and kindness,\")\n",
    "    print(\"your hear will always bloom.\")\n",
    "\n",
    "recite_poem()"
   ]
  },
  {
   "cell_type": "markdown",
   "id": "d5e0172c",
   "metadata": {
    "jupyter": {
     "source_hidden": true
    },
    "tags": []
   },
   "source": [
    "# We can have multiple return values, using tuples"
   ]
  },
  {
   "cell_type": "markdown",
   "id": "fa807df9",
   "metadata": {
    "jupyter": {
     "source_hidden": true
    },
    "tags": []
   },
   "source": [
    "# Positional Parameters and Default Values"
   ]
  },
  {
   "cell_type": "markdown",
   "id": "6d420739",
   "metadata": {
    "jupyter": {
     "source_hidden": true
    },
    "tags": []
   },
   "source": [
    "# Functions can be passed as values"
   ]
  },
  {
   "cell_type": "code",
   "execution_count": 44,
   "id": "e991df7e",
   "metadata": {
    "collapsed": true,
    "jupyter": {
     "outputs_hidden": true,
     "source_hidden": true
    },
    "tags": []
   },
   "outputs": [
    {
     "name": "stdout",
     "output_type": "stream",
     "text": [
      "What's in a name? That which we call a rose\n",
      "By any other name would smell as sweet\n"
     ]
    }
   ],
   "source": [
    "def rose():\n",
    "    \"\"\"Print a line from Romeo and Juliet.\"\"\"\n",
    "    print(\"What's in a name? That which we call a rose\\nBy any other name would smell as sweet\")\n",
    "\n",
    "any_other_name = rose  # Note the lack of brackets\n",
    "any_other_name()"
   ]
  },
  {
   "cell_type": "markdown",
   "id": "9a9a9d8b",
   "metadata": {
    "jupyter": {
     "source_hidden": true
    },
    "tags": []
   },
   "source": [
    "# Everything in Python is an object, and objects have methods"
   ]
  },
  {
   "cell_type": "code",
   "execution_count": 45,
   "id": "0c0c3674",
   "metadata": {
    "collapsed": true,
    "jupyter": {
     "outputs_hidden": true,
     "source_hidden": true
    },
    "tags": []
   },
   "outputs": [
    {
     "data": {
      "text/plain": [
       "['__add__',\n",
       " '__class__',\n",
       " '__contains__',\n",
       " '__delattr__',\n",
       " '__dir__',\n",
       " '__doc__',\n",
       " '__eq__',\n",
       " '__format__',\n",
       " '__ge__',\n",
       " '__getattribute__',\n",
       " '__getitem__',\n",
       " '__getnewargs__',\n",
       " '__gt__',\n",
       " '__hash__',\n",
       " '__init__',\n",
       " '__init_subclass__',\n",
       " '__iter__',\n",
       " '__le__',\n",
       " '__len__',\n",
       " '__lt__',\n",
       " '__mod__',\n",
       " '__mul__',\n",
       " '__ne__',\n",
       " '__new__',\n",
       " '__reduce__',\n",
       " '__reduce_ex__',\n",
       " '__repr__',\n",
       " '__rmod__',\n",
       " '__rmul__',\n",
       " '__setattr__',\n",
       " '__sizeof__',\n",
       " '__str__',\n",
       " '__subclasshook__',\n",
       " 'capitalize',\n",
       " 'casefold',\n",
       " 'center',\n",
       " 'count',\n",
       " 'encode',\n",
       " 'endswith',\n",
       " 'expandtabs',\n",
       " 'find',\n",
       " 'format',\n",
       " 'format_map',\n",
       " 'index',\n",
       " 'isalnum',\n",
       " 'isalpha',\n",
       " 'isascii',\n",
       " 'isdecimal',\n",
       " 'isdigit',\n",
       " 'isidentifier',\n",
       " 'islower',\n",
       " 'isnumeric',\n",
       " 'isprintable',\n",
       " 'isspace',\n",
       " 'istitle',\n",
       " 'isupper',\n",
       " 'join',\n",
       " 'ljust',\n",
       " 'lower',\n",
       " 'lstrip',\n",
       " 'maketrans',\n",
       " 'partition',\n",
       " 'replace',\n",
       " 'rfind',\n",
       " 'rindex',\n",
       " 'rjust',\n",
       " 'rpartition',\n",
       " 'rsplit',\n",
       " 'rstrip',\n",
       " 'split',\n",
       " 'splitlines',\n",
       " 'startswith',\n",
       " 'strip',\n",
       " 'swapcase',\n",
       " 'title',\n",
       " 'translate',\n",
       " 'upper',\n",
       " 'zfill']"
      ]
     },
     "execution_count": 45,
     "metadata": {},
     "output_type": "execute_result"
    }
   ],
   "source": [
    "# Methods are functions attached to an object\n",
    "# We can use the built-in `dir` function to learn what methods an object has\n",
    "s = \"Hello world\"\n",
    "dir(s)  # Will print all the methods and attributes that are available on a string (for now ignore the ones with underscores)"
   ]
  },
  {
   "cell_type": "code",
   "execution_count": 53,
   "id": "f4dcf9df",
   "metadata": {
    "collapsed": true,
    "jupyter": {
     "outputs_hidden": true,
     "source_hidden": true
    },
    "tags": []
   },
   "outputs": [
    {
     "name": "stdout",
     "output_type": "stream",
     "text": [
      "Help on built-in function upper:\n",
      "\n",
      "upper() method of builtins.str instance\n",
      "    Return a copy of the string converted to uppercase.\n",
      "\n"
     ]
    }
   ],
   "source": [
    "# We can then use `help` to get any methods \n",
    "help(s.upper)\n",
    "# Python also has great documentation for all of these - https://docs.python.org/3/library/stdtypes.html#string-methods"
   ]
  },
  {
   "cell_type": "markdown",
   "id": "2d8dd0a3",
   "metadata": {
    "jupyter": {
     "source_hidden": true
    },
    "tags": []
   },
   "source": [
    "# Some particularly useful string methods\n",
    "\n",
    "Count appearance of substrings: `s.count(sub [, start[, end]])`\n",
    "Begins/ends with a substring? `s.startswith(sub[, start[, end]])` , `s.endswith(sub[, start[, end]])`\n",
    "All capital/lowercase letters: `s.upper()` , `s.lower()`\n",
    "Remove whitespace: `s.strip([chars])`\n",
    "Find position of substring: `s.index(sub[, start[, end]])`\n",
    "Replace a substring: `.replace(old, new[, count])`\n",
    "\n",
    "Many more exist - the documentation, Google and Stack Overflow are your friends"
   ]
  },
  {
   "cell_type": "markdown",
   "id": "0c701773",
   "metadata": {
    "jupyter": {
     "source_hidden": true
    },
    "tags": []
   },
   "source": [
    "# Modules\n",
    "\n",
    "Functions thematically belonging together can be stored in a separate Python file. (Same for all other objects)\n",
    "\n",
    "Such a file is called a module and can be loaded in any Python script.\n",
    "\n",
    "There are dozens of modules are available directly in the Python Standard Library, included in any Python installation, and hundred of thousands of others can be easily installed. See https://docs.python.org/3/library/index.html"
   ]
  },
  {
   "cell_type": "code",
   "execution_count": 56,
   "id": "a476040c",
   "metadata": {
    "collapsed": true,
    "jupyter": {
     "outputs_hidden": true,
     "source_hidden": true
    },
    "tags": []
   },
   "outputs": [
    {
     "name": "stdout",
     "output_type": "stream",
     "text": [
      "6\n"
     ]
    }
   ],
   "source": [
    "# To make use of a module, we need to import it, by referring to it by name, without the \".py\" extension:\n",
    "\n",
    "import math\n",
    "print(math.gcd(18, 12))  # The greatest common divisor of these is 6"
   ]
  },
  {
   "cell_type": "code",
   "execution_count": 62,
   "id": "67bf3331",
   "metadata": {
    "collapsed": true,
    "jupyter": {
     "outputs_hidden": true,
     "source_hidden": true
    },
    "tags": []
   },
   "outputs": [
    {
     "name": "stdout",
     "output_type": "stream",
     "text": [
      "6\n",
      "3.141592653589793\n"
     ]
    }
   ],
   "source": [
    "# We can also import one or more particular objects from a module by using `from ... import ...`:\n",
    "from math import gcd, pi\n",
    "print(gcd(18, 12))\n",
    "print(pi)"
   ]
  },
  {
   "cell_type": "code",
   "execution_count": 1,
   "id": "6fd01461",
   "metadata": {
    "jupyter": {
     "source_hidden": true
    },
    "tags": []
   },
   "outputs": [],
   "source": [
    "# Again: in-built wisdom here...\n",
    "# The zen of Python:\n",
    "# import this"
   ]
  }
 ],
 "metadata": {
  "colab": {
   "name": "Welcome to DataCamp Workspaces.ipynb",
   "provenance": []
  },
  "kernelspec": {
   "display_name": "Python 3 (ipykernel)",
   "language": "python",
   "name": "python3"
  },
  "language_info": {
   "codemirror_mode": {
    "name": "ipython",
    "version": 3
   },
   "file_extension": ".py",
   "mimetype": "text/x-python",
   "name": "python",
   "nbconvert_exporter": "python",
   "pygments_lexer": "ipython3",
   "version": "3.11.4"
  }
 },
 "nbformat": 4,
 "nbformat_minor": 5
}
