{
 "cells": [
  {
   "cell_type": "code",
   "execution_count": 2,
   "metadata": {},
   "outputs": [
    {
     "name": "stdout",
     "output_type": "stream",
     "text": [
      "Hi Bill your bill (no pun intended) is € 23.2454321\n"
     ]
    }
   ],
   "source": [
    "name = \"Bill\"\n",
    "cost = 23.2454321\n",
    "\n",
    "print(\"Hi\",name,\"your bill (no pun intended) is €\",cost )"
   ]
  },
  {
   "cell_type": "code",
   "execution_count": 5,
   "metadata": {},
   "outputs": [
    {
     "name": "stdout",
     "output_type": "stream",
     "text": [
      "Hi Bill your bill (no pun intended) is €23.2454321\n"
     ]
    }
   ],
   "source": [
    "print(f\"Hi {name} your bill (no pun intended) is €{cost}\")              #f-string"
   ]
  },
  {
   "cell_type": "code",
   "execution_count": 6,
   "metadata": {},
   "outputs": [
    {
     "name": "stdout",
     "output_type": "stream",
     "text": [
      "Hi Bill your bill (no pun intended) is €23.25\n"
     ]
    }
   ],
   "source": [
    "print(f\"Hi {name} your bill (no pun intended) is €{cost:.2f}\")          #f-string with format-specifier '.2f'"
   ]
  },
  {
   "cell_type": "code",
   "execution_count": 7,
   "metadata": {},
   "outputs": [
    {
     "data": {
      "text/plain": [
       "'23.25'"
      ]
     },
     "execution_count": 7,
     "metadata": {},
     "output_type": "execute_result"
    }
   ],
   "source": [
    "format(cost, \".2f\") #format specifier \".2f\""
   ]
  },
  {
   "cell_type": "code",
   "execution_count": 3,
   "metadata": {},
   "outputs": [
    {
     "name": "stdout",
     "output_type": "stream",
     "text": [
      "Hi Bill your bill (no pun intended) is € 23.2454321\n"
     ]
    }
   ],
   "source": [
    "print(\"Hi %s your bill (no pun intended) is € %s\" % (name, cost))       #older '%' formatting style"
   ]
  },
  {
   "cell_type": "code",
   "execution_count": 17,
   "metadata": {},
   "outputs": [
    {
     "name": "stdout",
     "output_type": "stream",
     "text": [
      "You typed:  2\n",
      "<class 'int'>\n",
      "your number + 2 is:  4\n"
     ]
    }
   ],
   "source": [
    "typed_in = input(\"Pick a number between 1 and 10\")\n",
    "typed_in = int( typed_in )                              #converted the typed_in to an int\n",
    "print(\"You typed: \", typed_in)\n",
    "print( type( typed_in ) ) \n",
    "result = typed_in+2                                 \n",
    "print(\"your number + 2 is: \", result )"
   ]
  },
  {
   "cell_type": "code",
   "execution_count": 19,
   "metadata": {},
   "outputs": [
    {
     "name": "stdout",
     "output_type": "stream",
     "text": [
      "You typed:  2\n",
      "<class 'int'>\n",
      "your number + 2 is:  4\n"
     ]
    }
   ],
   "source": [
    "#shorter way...\n",
    "typed_in = int( input(\"Pick a number between 1 and 10\") )\n",
    "print(\"You typed: \", typed_in)\n",
    "print( type( typed_in ) ) \n",
    "result = typed_in+2                                 \n",
    "print(\"your number + 2 is: \", result )"
   ]
  },
  {
   "cell_type": "code",
   "execution_count": 21,
   "metadata": {},
   "outputs": [
    {
     "name": "stdout",
     "output_type": "stream",
     "text": [
      "40\n"
     ]
    }
   ],
   "source": [
    "#\"pass\" is a keyword in Python, can't use for a name\n",
    "\n",
    "#...this code trying to use 'pass' as a name will fail\n",
    "# pass = 40                 \n",
    "# print( pass)\n",
    "#...\n",
    "#...this changed version is fine 'pass_value' is not a keyword \n",
    "pass_value = 40                     #no longer keyword: works now            \n",
    "print( pass_value)  \n"
   ]
  },
  {
   "cell_type": "code",
   "execution_count": 23,
   "metadata": {},
   "outputs": [
    {
     "name": "stdout",
     "output_type": "stream",
     "text": [
      "4 6\n",
      "6 4\n"
     ]
    }
   ],
   "source": [
    "#An example to swap values in left and right 'hands' \n",
    "#   i.e. (variables of those names)\n",
    "left_hand  = 4\n",
    "right_hand = 6\n",
    "print( left_hand, right_hand )\n",
    "right_hand, left_hand = left_hand, right_hand       #Python swap\n",
    "print( left_hand, right_hand )"
   ]
  },
  {
   "cell_type": "code",
   "execution_count": 25,
   "metadata": {},
   "outputs": [
    {
     "name": "stdout",
     "output_type": "stream",
     "text": [
      "4 6\n",
      "6 4\n"
     ]
    }
   ],
   "source": [
    "#In languages without the above Python swap syntax\n",
    "# use a temp variable to carry out a swap\n",
    "left_hand  = 4\n",
    "right_hand = 6\n",
    "temp = left_hand                    #store the left value in temp\n",
    "\n",
    "print( left_hand, right_hand )\n",
    "\n",
    "left_hand = right_hand              #overwrite the 'left' with the 'right': both hold 'right' value then\n",
    "right_hand = temp                   #overwrite the 'right' with the stored 'left' taken from 'temp'\n",
    "\n",
    "print( left_hand, right_hand )\n"
   ]
  },
  {
   "cell_type": "code",
   "execution_count": 27,
   "metadata": {},
   "outputs": [
    {
     "name": "stdout",
     "output_type": "stream",
     "text": [
      "3.14\n",
      "4.13 changed now!!\n"
     ]
    }
   ],
   "source": [
    "#No real constants as such in python\n",
    "PI = 3.14\n",
    "# const PI = 3.14  #not possible\n",
    "\n",
    "print(PI)\n",
    "\n",
    "PI = 4.13\n",
    "\n",
    "print(PI, \"changed now!!\")"
   ]
  },
  {
   "cell_type": "code",
   "execution_count": 28,
   "metadata": {},
   "outputs": [
    {
     "name": "stdout",
     "output_type": "stream",
     "text": [
      "3.14\n"
     ]
    }
   ],
   "source": [
    "#constant workaround\n",
    "def PI():\n",
    "    return 3.14\n",
    "\n",
    "print( PI() )\n",
    "\n",
    "# PI() = 4.13 # won't work: can't change it now\n",
    "\n"
   ]
  },
  {
   "cell_type": "code",
   "execution_count": 31,
   "metadata": {},
   "outputs": [
    {
     "name": "stdout",
     "output_type": "stream",
     "text": [
      "1707944585.8117635\n"
     ]
    }
   ],
   "source": [
    "import time\n",
    "now = time.time()\n",
    "print( now )"
   ]
  }
 ],
 "metadata": {
  "kernelspec": {
   "display_name": "Python 3",
   "language": "python",
   "name": "python3"
  },
  "language_info": {
   "codemirror_mode": {
    "name": "ipython",
    "version": 3
   },
   "file_extension": ".py",
   "mimetype": "text/x-python",
   "name": "python",
   "nbconvert_exporter": "python",
   "pygments_lexer": "ipython3",
   "version": "3.11.4"
  }
 },
 "nbformat": 4,
 "nbformat_minor": 2
}
