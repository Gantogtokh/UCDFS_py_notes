{
 "cells": [
  {
   "cell_type": "code",
   "execution_count": null,
   "id": "48ae32f8",
   "metadata": {},
   "outputs": [],
   "source": [
    "# Cell Mode ->Edit [press Enter or click into the cell]\n",
    "# Edit Mode ->Cell [press Esc or click on the margin]\n",
    "\n",
    "#CellMode\n",
    "# A -> new cell above\n",
    "# B -> new cell below\n",
    "# DD-> deletes a cell\n",
    "\n",
    "#ArrowKeys up/down\n",
    "# Shift+up+up.... or Shift+down/down to highligt multiple cells\n"
   ]
  },
  {
   "cell_type": "code",
   "execution_count": null,
   "id": "fce725ef",
   "metadata": {},
   "outputs": [],
   "source": [
    "print(\"Hello World!\")\n",
    "print(\"line 2\")"
   ]
  },
  {
   "cell_type": "code",
   "execution_count": 4,
   "id": "ccff6df4",
   "metadata": {},
   "outputs": [
    {
     "name": "stdout",
     "output_type": "stream",
     "text": [
      "bill\n"
     ]
    }
   ],
   "source": [
    "friend = \"bill\"\n",
    "print( friend )"
   ]
  },
  {
   "cell_type": "code",
   "execution_count": 8,
   "id": "fc8bc104",
   "metadata": {},
   "outputs": [
    {
     "name": "stdout",
     "output_type": "stream",
     "text": [
      "<class 'float'>\n",
      "msg\n"
     ]
    }
   ],
   "source": [
    "age = 17                                #whole number (:int)\n",
    "go_for_pint = True                      #boolean (:bool)\n",
    "wages = 12.50                           #floating-point (:float)\n",
    "text = \"a rose by any other name...\"    #string (str)\n",
    "\n",
    "print( type(wages) )\n",
    "print(\"msg\")\n"
   ]
  },
  {
   "cell_type": "code",
   "execution_count": 12,
   "id": "83931621",
   "metadata": {},
   "outputs": [
    {
     "data": {
      "text/plain": [
       "'172'"
      ]
     },
     "execution_count": 12,
     "metadata": {},
     "output_type": "execute_result"
    }
   ],
   "source": [
    "age = \"17\"\n",
    "new_age = age+str(2)\n",
    "\n",
    "new_age"
   ]
  },
  {
   "cell_type": "code",
   "execution_count": 15,
   "id": "ee7bc6cd",
   "metadata": {},
   "outputs": [
    {
     "data": {
      "text/plain": [
       "19"
      ]
     },
     "execution_count": 15,
     "metadata": {},
     "output_type": "execute_result"
    }
   ],
   "source": [
    "age = \"17\"\n",
    "int_age = int(age)\n",
    "new_age = int_age+2\n",
    "\n",
    "new_age"
   ]
  },
  {
   "cell_type": "code",
   "execution_count": 17,
   "id": "a50ad7c7",
   "metadata": {},
   "outputs": [
    {
     "data": {
      "text/plain": [
       "19"
      ]
     },
     "execution_count": 17,
     "metadata": {},
     "output_type": "execute_result"
    }
   ],
   "source": [
    "age = \"17\"\n",
    "age = int(age)            #overwrite the str \"17\" with int 17\n",
    "new_age = age+2\n",
    "\n",
    "new_age"
   ]
  },
  {
   "cell_type": "code",
   "execution_count": 18,
   "id": "9991ef12",
   "metadata": {},
   "outputs": [
    {
     "name": "stdout",
     "output_type": "stream",
     "text": [
      "How's it going \n"
     ]
    }
   ],
   "source": [
    "#printing strings\n",
    "print( \"How's it going \")"
   ]
  },
  {
   "cell_type": "code",
   "execution_count": 19,
   "id": "253d71e0",
   "metadata": {},
   "outputs": [
    {
     "ename": "SyntaxError",
     "evalue": "unterminated string literal (detected at line 1) (575844849.py, line 1)",
     "output_type": "error",
     "traceback": [
      "\u001b[1;36m  Cell \u001b[1;32mIn[19], line 1\u001b[1;36m\u001b[0m\n\u001b[1;33m    poem = \"roses are red\u001b[0m\n\u001b[1;37m           ^\u001b[0m\n\u001b[1;31mSyntaxError\u001b[0m\u001b[1;31m:\u001b[0m unterminated string literal (detected at line 1)\n"
     ]
    }
   ],
   "source": [
    "poem = \"roses are red\n",
    "violets are blue\n",
    "python is great \n",
    "but I'd rather be with you\""
   ]
  },
  {
   "cell_type": "code",
   "execution_count": 20,
   "id": "a51bd1ea",
   "metadata": {},
   "outputs": [
    {
     "name": "stdout",
     "output_type": "stream",
     "text": [
      "roses are red\n",
      "violets are blue\n",
      "python is great \n",
      "but I'd rather be with you\n"
     ]
    }
   ],
   "source": [
    "# multi-line string...\n",
    "poem = \"\"\"roses are red\n",
    "violets are blue\n",
    "python is great \n",
    "but I'd rather be with you\"\"\"\n",
    "\n",
    "print(poem)"
   ]
  },
  {
   "cell_type": "code",
   "execution_count": 21,
   "id": "2b99f3a9",
   "metadata": {},
   "outputs": [
    {
     "name": "stdout",
     "output_type": "stream",
     "text": [
      "roses are red\n",
      "roses are red\n"
     ]
    }
   ],
   "source": [
    "#Types of quotes for making literal strings (text)\n",
    "text1 = 'roses are red'\n",
    "text2 = \"roses are red\"\n",
    "print( text1 )\n",
    "print( text2 )"
   ]
  },
  {
   "cell_type": "code",
   "execution_count": 22,
   "id": "151276c4",
   "metadata": {},
   "outputs": [
    {
     "name": "stdout",
     "output_type": "stream",
     "text": [
      "I said \"you lunatic\" not you \"luner tick\" \n"
     ]
    }
   ],
   "source": [
    "spoken = 'I said \"you lunatic\" not you \"luner tick\" '   #nicer then below \\\"\n",
    "print(spoken)"
   ]
  },
  {
   "cell_type": "code",
   "execution_count": 23,
   "id": "18e74d13",
   "metadata": {},
   "outputs": [
    {
     "name": "stdout",
     "output_type": "stream",
     "text": [
      "I said \"you lunatic\" not you \"luner tick\" \n"
     ]
    }
   ],
   "source": [
    "#escape character '\\\"'\n",
    "spoken = \"I said \\\"you lunatic\\\" not you \\\"luner tick\\\" \"\n",
    "print(spoken)"
   ]
  },
  {
   "cell_type": "code",
   "execution_count": 26,
   "id": "5c3d5573",
   "metadata": {},
   "outputs": [
    {
     "name": "stdout",
     "output_type": "stream",
     "text": [
      "roses are red\n",
      "violets are blue\n",
      "\n"
     ]
    }
   ],
   "source": [
    "#Find 2 other ways to do multi-line strings (5min)\n",
    "#way 2\n",
    "text1 = '''roses are red\n",
    "violets are blue\n",
    "'''\n",
    "print( text1 )\n",
    "\n",
    "#e.g. https://stackoverflow.com/questions/10660435/how-do-i-split-the-definition-of-a-long-string-over-multiple-lines\n",
    "# See linked\n",
    "#    https://stackoverflow.com/questions/1874592/how-to-write-very-long-string-that-conforms-with-pep8-and-prevent-e501/1874679#1874679"
   ]
  },
  {
   "cell_type": "code",
   "execution_count": 29,
   "id": "48722b5c",
   "metadata": {},
   "outputs": [
    {
     "name": "stdout",
     "output_type": "stream",
     "text": [
      "roses are red\n",
      "violets are blue\n",
      "I love python\n",
      "but not as much as you\n"
     ]
    }
   ],
   "source": [
    "#\\n ==> newline\n",
    "poem = \"roses are red\\nviolets are blue\\nI love python\\nbut not as much as you\"\n",
    "print(poem)"
   ]
  },
  {
   "cell_type": "code",
   "execution_count": 31,
   "id": "7d2b28e8",
   "metadata": {},
   "outputs": [
    {
     "name": "stdout",
     "output_type": "stream",
     "text": [
      "roses are red\n",
      "\tviolets are blue\n",
      "\tI love python\n",
      "but not as much as you\n"
     ]
    }
   ],
   "source": [
    "#\\t ==> tab-space\n",
    "poem = \"roses are red\\n\\tviolets are blue\\n\\tI love python\\nbut not as much as you\"\n",
    "print(poem)"
   ]
  },
  {
   "cell_type": "code",
   "execution_count": null,
   "id": "28a3bd60",
   "metadata": {},
   "outputs": [],
   "source": [
    "#Breaking long text over multiple lines\n",
    "text1 = \" this is going to be \\\n",
    "a really long string \\\n",
    "over very many lines\"\n",
    "\n",
    "equiv = \" this is going to be a really long string over very many lines\"\n",
    "print(text1)\n",
    "print(equiv)"
   ]
  },
  {
   "cell_type": "code",
   "execution_count": 33,
   "id": "a09d796c",
   "metadata": {},
   "outputs": [
    {
     "name": "stdout",
     "output_type": "stream",
     "text": [
      "this is all one sentence but I'm breaking it over multiple by wrapping in round-brackets\n"
     ]
    }
   ],
   "source": [
    "poem = (\"this is all one sentence \"\n",
    "         \"but I'm breaking it over multiple \"\n",
    "         \"by wrapping in round-brackets\")\n",
    "\n",
    "print(poem)"
   ]
  },
  {
   "cell_type": "code",
   "execution_count": null,
   "id": "39c437da",
   "metadata": {},
   "outputs": [],
   "source": []
  },
  {
   "cell_type": "code",
   "execution_count": null,
   "id": "e2b6ed12",
   "metadata": {},
   "outputs": [],
   "source": []
  },
  {
   "cell_type": "code",
   "execution_count": null,
   "id": "ec91cdf9",
   "metadata": {},
   "outputs": [],
   "source": []
  },
  {
   "cell_type": "code",
   "execution_count": null,
   "id": "b6c48181",
   "metadata": {},
   "outputs": [],
   "source": []
  },
  {
   "cell_type": "code",
   "execution_count": null,
   "id": "a9225987",
   "metadata": {},
   "outputs": [],
   "source": []
  },
  {
   "cell_type": "code",
   "execution_count": null,
   "id": "c44b6462",
   "metadata": {},
   "outputs": [],
   "source": []
  }
 ],
 "metadata": {
  "kernelspec": {
   "display_name": "Python 3 (ipykernel)",
   "language": "python",
   "name": "python3"
  },
  "language_info": {
   "codemirror_mode": {
    "name": "ipython",
    "version": 3
   },
   "file_extension": ".py",
   "mimetype": "text/x-python",
   "name": "python",
   "nbconvert_exporter": "python",
   "pygments_lexer": "ipython3",
   "version": "3.11.4"
  }
 },
 "nbformat": 4,
 "nbformat_minor": 5
}
